{
 "cells": [
  {
   "cell_type": "code",
   "execution_count": 5,
   "metadata": {},
   "outputs": [
    {
     "name": "stdout",
     "output_type": "stream",
     "text": [
      "\n",
      "Summary Statistics:\n",
      "             Age\n",
      "count   4.000000\n",
      "mean   32.500000\n",
      "std     6.454972\n",
      "min    25.000000\n",
      "25%    28.750000\n",
      "50%    32.500000\n",
      "75%    36.250000\n",
      "max    40.000000\n"
     ]
    }
   ],
   "source": [
    "import pandas as pd\n",
    "# Creating a DataFrame from a dictionary\n",
    "data = {'Name': ['Alice', 'Bob', 'Charlie', 'David'],\n",
    "'Age': [25, 30, 35, 40],\n",
    "'City': ['New York','Los Angeles', 'Chicago', 'Houston']}\n",
    "df = pd.DataFrame(data)\n",
    "# print(\"DataFrame:\")\n",
    "# print(df)\n",
    "# # Accessing columns\n",
    "# print(\"\\nAccessing Columns:\")\n",
    "# print(df['Name'])\n",
    "# print(df.Age) # Alternative syntax\n",
    "# # Accessing rows\n",
    "# print(\"\\nAccessing Rows:\")\n",
    "# print(df.loc[0]) # Access row by label\n",
    "# print(df.iloc[0]) # Access row by index\n",
    "\n",
    "# # Filtering data\n",
    "# print(\"\\nFiltering Data:\")\n",
    "# print(df[df[\"Age\"] > 30]) # Select rows where Age &gt; 30\n",
    "# # Adding a new column\n",
    "# df[\"Salary\"] = [50000, 60000, 70000, 80000]\n",
    "# print(\"\\nDataFrame with New Column:\")\n",
    "# print(df)\n",
    "# Summary statistics\n",
    "print(\"\\nSummary Statistics:\")\n",
    "print(df.describe())"
   ]
  }
 ],
 "metadata": {
  "kernelspec": {
   "display_name": "Python 3",
   "language": "python",
   "name": "python3"
  },
  "language_info": {
   "codemirror_mode": {
    "name": "ipython",
    "version": 3
   },
   "file_extension": ".py",
   "mimetype": "text/x-python",
   "name": "python",
   "nbconvert_exporter": "python",
   "pygments_lexer": "ipython3",
   "version": "3.13.2"
  }
 },
 "nbformat": 4,
 "nbformat_minor": 2
}
