{
 "cells": [
  {
   "cell_type": "markdown",
   "metadata": {},
   "source": [
    "Aim: Implement k-fold cross validation for iris flower dataset from sklearn library. Use\n",
    "the following learning models to check the performances and also figure out which is\n",
    "performing best.\n",
    "1. Logistic Regression\n",
    "2. Support Vector Machine (SVM)\n",
    "3. Random Forest\n",
    "4. Decision Tree"
   ]
  },
  {
   "cell_type": "code",
   "execution_count": 1,
   "metadata": {},
   "outputs": [],
   "source": [
    "from sklearn.datasets import load_iris\n",
    "from sklearn.model_selection import KFold, cross_val_score\n",
    "from sklearn.linear_model import LogisticRegression\n",
    "from sklearn.svm import SVC\n",
    "from sklearn.ensemble import RandomForestClassifier\n",
    "from sklearn.tree import DecisionTreeClassifier #, DecisionTreeRegressor\n",
    "import numpy as np"
   ]
  },
  {
   "cell_type": "code",
   "execution_count": 2,
   "metadata": {},
   "outputs": [],
   "source": [
    "# Load digits dataset\n",
    "data = load_iris()\n",
    "X, y = data.data, data.target"
   ]
  },
  {
   "cell_type": "code",
   "execution_count": 3,
   "metadata": {},
   "outputs": [],
   "source": [
    "# Filter the dataset to only include digits 1 to 9\n",
    "mask = (y >= 1) & (y <= 9)\n",
    "X, y = X[mask], y[mask]"
   ]
  },
  {
   "cell_type": "code",
   "execution_count": 5,
   "metadata": {},
   "outputs": [],
   "source": [
    "# Define the models to evaluate\n",
    "models = {\n",
    "    \"Logistic Regression\": LogisticRegression(max_iter=10000, solver='lbfgs',multi_class='multinomial'),\n",
    "    \"Support Vector Machine\": SVC(kernel='linear', C=1),\n",
    "    \"Random Forest\": RandomForestClassifier(n_estimators=100, random_state=42),\n",
    "    \"Decision Tree Classifier\": DecisionTreeClassifier(criterion=\"gini\", max_depth=3,random_state=42),\n",
    "    # \"Decision Tree Regressor\": DecisionTreeRegressor(criterion=\"squared_error\",max_depth=3 ,random_state=42)\n",
    "}"
   ]
  },
  {
   "cell_type": "code",
   "execution_count": 6,
   "metadata": {},
   "outputs": [
    {
     "name": "stderr",
     "output_type": "stream",
     "text": [
      "e:\\Python313\\Lib\\site-packages\\sklearn\\linear_model\\_logistic.py:1237: FutureWarning: 'multi_class' was deprecated in version 1.5 and will be removed in 1.7. From then on, binary problems will be fit as proper binary  logistic regression models (as if multi_class='ovr' were set). Leave it to its default value to avoid this warning.\n",
      "  warnings.warn(\n",
      "e:\\Python313\\Lib\\site-packages\\sklearn\\linear_model\\_logistic.py:1237: FutureWarning: 'multi_class' was deprecated in version 1.5 and will be removed in 1.7. From then on, binary problems will be fit as proper binary  logistic regression models (as if multi_class='ovr' were set). Leave it to its default value to avoid this warning.\n",
      "  warnings.warn(\n",
      "e:\\Python313\\Lib\\site-packages\\sklearn\\linear_model\\_logistic.py:1237: FutureWarning: 'multi_class' was deprecated in version 1.5 and will be removed in 1.7. From then on, binary problems will be fit as proper binary  logistic regression models (as if multi_class='ovr' were set). Leave it to its default value to avoid this warning.\n",
      "  warnings.warn(\n",
      "e:\\Python313\\Lib\\site-packages\\sklearn\\linear_model\\_logistic.py:1237: FutureWarning: 'multi_class' was deprecated in version 1.5 and will be removed in 1.7. From then on, binary problems will be fit as proper binary  logistic regression models (as if multi_class='ovr' were set). Leave it to its default value to avoid this warning.\n",
      "  warnings.warn(\n",
      "e:\\Python313\\Lib\\site-packages\\sklearn\\linear_model\\_logistic.py:1237: FutureWarning: 'multi_class' was deprecated in version 1.5 and will be removed in 1.7. From then on, binary problems will be fit as proper binary  logistic regression models (as if multi_class='ovr' were set). Leave it to its default value to avoid this warning.\n",
      "  warnings.warn(\n"
     ]
    }
   ],
   "source": [
    "# Set up k-fold cross-validation\n",
    "k = 5 # Number of folds\n",
    "kf = KFold(n_splits=k, shuffle=True, random_state=42)\n",
    "# Evaluate each model\n",
    "results = {}\n",
    "for model_name, model in models.items():\n",
    "    scores = cross_val_score(model, X, y, cv=kf, scoring='accuracy')\n",
    "    results[model_name] = {\n",
    "    \"Mean Accuracy\": np.mean(scores),\n",
    "    \"Standard Deviation\": np.std(scores)\n",
    "    }"
   ]
  },
  {
   "cell_type": "code",
   "execution_count": 8,
   "metadata": {},
   "outputs": [
    {
     "name": "stdout",
     "output_type": "stream",
     "text": [
      "Logistic Regression:\n",
      "Mean Accuracy: 0.9600\n",
      "Standard Deviation: 0.0200\n",
      "\n",
      "Support Vector Machine:\n",
      "Mean Accuracy: 0.9800\n",
      "Standard Deviation: 0.0400\n",
      "\n",
      "Random Forest:\n",
      "Mean Accuracy: 0.9300\n",
      "Standard Deviation: 0.0245\n",
      "\n",
      "Decision Tree Classifier:\n",
      "Mean Accuracy: 0.9400\n",
      "Standard Deviation: 0.0200\n",
      "\n",
      "Best-performing model: Support Vector Machine with mean accuracy 0.9800\n"
     ]
    }
   ],
   "source": [
    "# Print the results\n",
    "for model_name, metrics in results.items():\n",
    "    print(f\"{model_name}:\")\n",
    "    print(f\"Mean Accuracy: {metrics['Mean Accuracy']:.4f}\")\n",
    "    print(f\"Standard Deviation: {metrics['Standard Deviation']:.4f}\\n\")\n",
    "# Determine the best-performing model\n",
    "best_model = max(results, key=lambda x: results[x]['Mean Accuracy'])\n",
    "print(f\"Best-performing model: {best_model} with mean accuracy {results[best_model]['Mean Accuracy']:.4f}\")"
   ]
  }
 ],
 "metadata": {
  "kernelspec": {
   "display_name": "Python 3",
   "language": "python",
   "name": "python3"
  },
  "language_info": {
   "codemirror_mode": {
    "name": "ipython",
    "version": 3
   },
   "file_extension": ".py",
   "mimetype": "text/x-python",
   "name": "python",
   "nbconvert_exporter": "python",
   "pygments_lexer": "ipython3",
   "version": "3.13.2"
  }
 },
 "nbformat": 4,
 "nbformat_minor": 2
}
