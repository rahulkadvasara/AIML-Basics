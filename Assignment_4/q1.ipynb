{
 "cells": [
  {
   "cell_type": "markdown",
   "metadata": {},
   "source": [
    "Find the determinant of a matrix ((3x3),(2x2)) using SciPy"
   ]
  },
  {
   "cell_type": "code",
   "execution_count": 1,
   "metadata": {},
   "outputs": [],
   "source": [
    "import numpy as np\n",
    "from scipy.linalg import det"
   ]
  },
  {
   "cell_type": "code",
   "execution_count": 2,
   "metadata": {},
   "outputs": [
    {
     "name": "stdout",
     "output_type": "stream",
     "text": [
      "Determinant of 3x3 matrix: 0.0\n",
      "Determinant of 2x2 matrix: -2.0\n"
     ]
    }
   ],
   "source": [
    "matrix_3x3 = np.array([[1, 2, 3], [4, 5, 6], [7, 8, 9]])\n",
    "matrix_2x2 = np.array([[1, 2], [3, 4]])\n",
    "\n",
    "det_3x3 = det(matrix_3x3)\n",
    "det_2x2 = det(matrix_2x2)\n",
    "\n",
    "print(f\"Determinant of 3x3 matrix: {det_3x3}\")\n",
    "print(f\"Determinant of 2x2 matrix: {det_2x2}\")"
   ]
  }
 ],
 "metadata": {
  "kernelspec": {
   "display_name": "Python 3",
   "language": "python",
   "name": "python3"
  },
  "language_info": {
   "codemirror_mode": {
    "name": "ipython",
    "version": 3
   },
   "file_extension": ".py",
   "mimetype": "text/x-python",
   "name": "python",
   "nbconvert_exporter": "python",
   "pygments_lexer": "ipython3",
   "version": "3.13.1"
  }
 },
 "nbformat": 4,
 "nbformat_minor": 2
}
