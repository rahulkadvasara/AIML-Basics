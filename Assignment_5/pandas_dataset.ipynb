{
 "cells": [
  {
   "cell_type": "markdown",
   "metadata": {},
   "source": [
    "Importing Datasets using Pandas"
   ]
  },
  {
   "cell_type": "code",
   "execution_count": 1,
   "metadata": {},
   "outputs": [],
   "source": [
    "import pandas as pd"
   ]
  },
  {
   "cell_type": "code",
   "execution_count": 3,
   "metadata": {},
   "outputs": [
    {
     "name": "stdout",
     "output_type": "stream",
     "text": [
      "   Rank        Country Population (2024) Yearly Change  Net Change  \\\n",
      "0     1          India     1,450,935,791        0.89 %  12,866,195   \n",
      "1     2          China     1,419,321,278       -0.23 %  -3,263,655   \n",
      "2     3  United States       345,426,571        0.57 %   1,949,236   \n",
      "3     4      Indonesia       283,487,931        0.82 %   2,297,864   \n",
      "4     5       Pakistan       251,269,164        1.52 %   3,764,669   \n",
      "\n",
      "  Density (P/Km²) Land Area (Km²) Migrants (net)  Fert. Rate  Med. Age  \\\n",
      "0             488       2,973,190       -630,830         2.0        28   \n",
      "1             151       9,388,211       -318,992         1.0        40   \n",
      "2              38       9,147,420      1,286,132         1.6        38   \n",
      "3             156       1,811,570        -38,469         2.1        30   \n",
      "4             326         770,880     -1,401,173         3.5        20   \n",
      "\n",
      "  Urban Pop % World Share  \n",
      "0        37 %     17.78 %  \n",
      "1        66 %     17.39 %  \n",
      "2        82 %      4.23 %  \n",
      "3        59 %      3.47 %  \n",
      "4        34 %      3.08 %  \n"
     ]
    }
   ],
   "source": [
    "df = pd.read_csv(\"Wolrd Population Data.csv\")\n",
    "print(df.head())"
   ]
  },
  {
   "cell_type": "code",
   "execution_count": 10,
   "metadata": {},
   "outputs": [
    {
     "name": "stdout",
     "output_type": "stream",
     "text": [
      "   Rank        Country Population (2024) Density (P/Km²)  Med. Age\n",
      "0     1          India     1,450,935,791             488        28\n",
      "1     2          China     1,419,321,278             151        40\n",
      "2     3  United States       345,426,571              38        38\n",
      "3     4      Indonesia       283,487,931             156        30\n",
      "4     5       Pakistan       251,269,164             326        20\n"
     ]
    }
   ],
   "source": [
    "df.drop_duplicates(subset=\"Country\", keep=\"first\", inplace=True)\n",
    "df.drop(columns=[\"Yearly Change\", \"Net Change\", \"Land Area (Km²)\", \"Migrants (net)\", \"Fert. Rate\", \"Urban Pop %\", \"World Share\"], inplace=True, errors='ignore')\n",
    "print(df.head())"
   ]
  },
  {
   "cell_type": "code",
   "execution_count": 12,
   "metadata": {},
   "outputs": [
    {
     "name": "stdout",
     "output_type": "stream",
     "text": [
      "Index(['Rank', 'Country', 'Population (2024)', 'Density (P/Km²)', 'Med. Age'], dtype='object')\n",
      "Rank                  int64\n",
      "Country              object\n",
      "Population (2024)    object\n",
      "Density (P/Km²)      object\n",
      "Med. Age              int64\n",
      "dtype: object\n"
     ]
    }
   ],
   "source": [
    "print(df.columns)\n",
    "print(df.dtypes)"
   ]
  },
  {
   "cell_type": "code",
   "execution_count": 14,
   "metadata": {},
   "outputs": [
    {
     "name": "stdout",
     "output_type": "stream",
     "text": [
      "          count        mean        std   min    25%    50%     75%    max\n",
      "Rank      234.0  117.500000  67.694165   1.0  59.25  117.5  175.75  234.0\n",
      "Med. Age  234.0   31.679487   9.810427  14.0  23.00   32.5   40.00   59.0\n"
     ]
    }
   ],
   "source": [
    "print(df.describe().T)"
   ]
  },
  {
   "cell_type": "code",
   "execution_count": 28,
   "metadata": {
    "vscode": {
     "languageId": "ruby"
    }
   },
   "outputs": [
    {
     "name": "stdout",
     "output_type": "stream",
     "text": [
      "     Rank           Country  Population (2024) Density (P/Km²)  Med. Age\n",
      "70     71       Netherlands         18228742.0             541        41\n",
      "71     72           Ecuador         18135478.0              73        29\n",
      "72     73          Cambodia         17638801.0             100        26\n",
      "73     74          Zimbabwe         16634373.0              43        18\n",
      "74     75            Guinea         14754785.0              60        18\n",
      "..    ...               ...                ...             ...       ...\n",
      "229   230        Montserrat             4389.0              44        42\n",
      "230   231  Falkland Islands             3470.0               0        42\n",
      "231   232           Tokelau             2506.0             251        27\n",
      "232   233              Niue             1819.0               7        36\n",
      "233   234          Holy See              496.0           1,240        59\n",
      "\n",
      "[164 rows x 5 columns]\n"
     ]
    }
   ],
   "source": [
    "Q1 = df['Population (2024)'].quantile(0.25)\n",
    "Q3 = df['Population (2024)'].quantile(0.75)\n",
    "IQR = Q3 - Q1\n",
    "lower_bound = Q1 - 1.5 * IQR\n",
    "upper_bound = Q3 + 1.5 * IQR\n",
    "df = df[(df['Population (2024)'] >= lower_bound) & (df['Population (2024)'] <= upper_bound)]\n",
    "print(df)"
   ]
  },
  {
   "cell_type": "code",
   "execution_count": null,
   "metadata": {
    "vscode": {
     "languageId": "ruby"
    }
   },
   "outputs": [
    {
     "name": "stdout",
     "output_type": "stream",
     "text": [
      "     Rank           Country  Population (2024) Density (P/Km²)  Med. Age\n",
      "70     71       Netherlands         18228742.0             541        41\n",
      "71     72           Ecuador         18135478.0              73        29\n",
      "72     73          Cambodia         17638801.0             100        26\n",
      "73     74          Zimbabwe         16634373.0              43        18\n",
      "74     75            Guinea         14754785.0              60        18\n",
      "..    ...               ...                ...             ...       ...\n",
      "229   230        Montserrat             4389.0              44        42\n",
      "230   231  Falkland Islands             3470.0               0        42\n",
      "231   232           Tokelau             2506.0             251        27\n",
      "232   233              Niue             1819.0               7        36\n",
      "233   234          Holy See              496.0           1,240        59\n",
      "\n",
      "[164 rows x 5 columns]\n"
     ]
    }
   ],
   "source": [
    "df.dropna(subset=['Population (2024)'], inplace=True)\n",
    "df.drop(df.iloc[:, 1:3], axis=1, inplace=True)\n",
    "df.drop(df.columns[[0, 2]], axis=1, inplace=True)\n",
    "print(df)"
   ]
  },
  {
   "cell_type": "markdown",
   "metadata": {},
   "source": [
    "Loading Datasets Usig sklearn"
   ]
  },
  {
   "cell_type": "code",
   "execution_count": 4,
   "metadata": {
    "vscode": {
     "languageId": "ruby"
    }
   },
   "outputs": [
    {
     "name": "stdout",
     "output_type": "stream",
     "text": [
      ".. _iris_dataset:\n",
      "\n",
      "Iris plants dataset\n",
      "--------------------\n",
      "\n",
      "**Data Set Characteristics:**\n",
      "\n",
      ":Number of Instances: 150 (50 in each of three classes)\n",
      ":Number of Attributes: 4 numeric, predictive attributes and the class\n",
      ":Attribute Information:\n",
      "    - sepal length in cm\n",
      "    - sepal width in cm\n",
      "    - petal length in cm\n",
      "    - petal width in cm\n",
      "    - class:\n",
      "            - Iris-Setosa\n",
      "            - Iris-Versicolour\n",
      "            - Iris-Virginica\n",
      "\n",
      ":Summary Statistics:\n",
      "\n",
      "============== ==== ==== ======= ===== ====================\n",
      "                Min  Max   Mean    SD   Class Correlation\n",
      "============== ==== ==== ======= ===== ====================\n",
      "sepal length:   4.3  7.9   5.84   0.83    0.7826\n",
      "sepal width:    2.0  4.4   3.05   0.43   -0.4194\n",
      "petal length:   1.0  6.9   3.76   1.76    0.9490  (high!)\n",
      "petal width:    0.1  2.5   1.20   0.76    0.9565  (high!)\n",
      "============== ==== ==== ======= ===== ====================\n",
      "\n",
      ":Missing Attribute Values: None\n",
      ":Class Distribution: 33.3% for each of 3 classes.\n",
      ":Creator: R.A. Fisher\n",
      ":Donor: Michael Marshall (MARSHALL%PLU@io.arc.nasa.gov)\n",
      ":Date: July, 1988\n",
      "\n",
      "The famous Iris database, first used by Sir R.A. Fisher. The dataset is taken\n",
      "from Fisher's paper. Note that it's the same as in R, but not as in the UCI\n",
      "Machine Learning Repository, which has two wrong data points.\n",
      "\n",
      "This is perhaps the best known database to be found in the\n",
      "pattern recognition literature.  Fisher's paper is a classic in the field and\n",
      "is referenced frequently to this day.  (See Duda & Hart, for example.)  The\n",
      "data set contains 3 classes of 50 instances each, where each class refers to a\n",
      "type of iris plant.  One class is linearly separable from the other 2; the\n",
      "latter are NOT linearly separable from each other.\n",
      "\n",
      ".. dropdown:: References\n",
      "\n",
      "  - Fisher, R.A. \"The use of multiple measurements in taxonomic problems\"\n",
      "    Annual Eugenics, 7, Part II, 179-188 (1936); also in \"Contributions to\n",
      "    Mathematical Statistics\" (John Wiley, NY, 1950).\n",
      "  - Duda, R.O., & Hart, P.E. (1973) Pattern Classification and Scene Analysis.\n",
      "    (Q327.D83) John Wiley & Sons.  ISBN 0-471-22361-1.  See page 218.\n",
      "  - Dasarathy, B.V. (1980) \"Nosing Around the Neighborhood: A New System\n",
      "    Structure and Classification Rule for Recognition in Partially Exposed\n",
      "    Environments\".  IEEE Transactions on Pattern Analysis and Machine\n",
      "    Intelligence, Vol. PAMI-2, No. 1, 67-71.\n",
      "  - Gates, G.W. (1972) \"The Reduced Nearest Neighbor Rule\".  IEEE Transactions\n",
      "    on Information Theory, May 1972, 431-433.\n",
      "  - See also: 1988 MLC Proceedings, 54-64.  Cheeseman et al\"s AUTOCLASS II\n",
      "    conceptual clustering system finds 3 classes in the data.\n",
      "  - Many, many more ...\n",
      "\n",
      "     sepal length (cm)  sepal width (cm)  petal length (cm)  petal width (cm)  \\\n",
      "0                  5.1               3.5                1.4               0.2   \n",
      "1                  4.9               3.0                1.4               0.2   \n",
      "2                  4.7               3.2                1.3               0.2   \n",
      "3                  4.6               3.1                1.5               0.2   \n",
      "4                  5.0               3.6                1.4               0.2   \n",
      "..                 ...               ...                ...               ...   \n",
      "145                6.7               3.0                5.2               2.3   \n",
      "146                6.3               2.5                5.0               1.9   \n",
      "147                6.5               3.0                5.2               2.0   \n",
      "148                6.2               3.4                5.4               2.3   \n",
      "149                5.9               3.0                5.1               1.8   \n",
      "\n",
      "     target  \n",
      "0         0  \n",
      "1         0  \n",
      "2         0  \n",
      "3         0  \n",
      "4         0  \n",
      "..      ...  \n",
      "145       2  \n",
      "146       2  \n",
      "147       2  \n",
      "148       2  \n",
      "149       2  \n",
      "\n",
      "[150 rows x 5 columns]\n"
     ]
    }
   ],
   "source": [
    "from sklearn.datasets import load_iris\n",
    "iris = load_iris()\n",
    "print(iris.DESCR)\n",
    "df = pd.DataFrame(data=iris.data, columns=iris.feature_names)\n",
    "df['target'] = iris.target\n",
    "print(df)"
   ]
  }
 ],
 "metadata": {
  "kernelspec": {
   "display_name": "Python 3",
   "language": "python",
   "name": "python3"
  },
  "language_info": {
   "codemirror_mode": {
    "name": "ipython",
    "version": 3
   },
   "file_extension": ".py",
   "mimetype": "text/x-python",
   "name": "python",
   "nbconvert_exporter": "python",
   "pygments_lexer": "ipython3",
   "version": "3.13.2"
  }
 },
 "nbformat": 4,
 "nbformat_minor": 2
}
