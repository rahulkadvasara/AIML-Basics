{
 "cells": [
  {
   "cell_type": "code",
   "execution_count": null,
   "id": "06e36ed5",
   "metadata": {},
   "outputs": [
    {
     "name": "stdout",
     "output_type": "stream",
     "text": [
      "- | - | -\n",
      "---------\n",
      "- | - | -\n",
      "---------\n",
      "- | - | -\n",
      "X's turn\n",
      "- | - | -\n",
      "---------\n",
      "X | - | -\n",
      "---------\n",
      "- | - | -\n"
     ]
    }
   ],
   "source": [
    "board = [\"-\", \"-\", \"-\",\n",
    "         \"-\", \"-\", \"-\",\n",
    "         \"-\", \"-\", \"-\"]\n",
    "\n",
    "def print_board():\n",
    "    print(board[0], \"|\", board[1], \"|\", board[2])\n",
    "    print(\"---------\")\n",
    "    print(board[3], \"|\", board[4], \"|\", board[5])\n",
    "    print(\"---------\")\n",
    "    print(board[6], \"|\", board[7], \"|\", board[8])\n",
    "\n",
    "def check_game_over():\n",
    "    if(board[0] == board[1] == board[2] != \"-\" or\n",
    "        board[3] == board[4] == board[5] != \"-\" or\n",
    "        board[6] == board[7] == board[8] != \"-\" or\n",
    "        board[0] == board[3] == board[6] != \"-\" or\n",
    "        board[1] == board[4] == board[7] != \"-\" or\n",
    "        board[2] == board[5] == board[8] != \"-\" or\n",
    "        board[0] == board[4] == board[8] != \"-\" or\n",
    "        board[2] == board[4] == board[6] != \"-\"):\n",
    "        return \"win\"\n",
    "    elif \"-\" not in board:\n",
    "        return \"draw\"\n",
    "    else:\n",
    "        return \"continue\"\n",
    "\n",
    "def take_turn(palyer):\n",
    "    print(f\"{palyer}'s turn\")\n",
    "    position = input(\"Choose a position from 1-9: \")\n",
    "    while position not in [\"1\", \"2\", \"3\", \"4\", \"5\", \"6\", \"7\", \"8\", \"9\"]:\n",
    "        position = input(\"Invalid input. Choose a position from 1-9: \")\n",
    "    position = int(position)-1\n",
    "    while board[position] != \"-\":\n",
    "        position = int(input(\"Position already taken. Choose a different position: \"))-1\n",
    "    board[position] = palyer\n",
    "    print_board()\n",
    "\n",
    "def play_game():\n",
    "    print_board()\n",
    "    current_player = \"X\"\n",
    "    game_over = False\n",
    "    while not game_over:\n",
    "        take_turn(current_player)\n",
    "        game_result = check_game_over()\n",
    "        if game_result == \"win\":\n",
    "            print(f\"{current_player} wins!\")\n",
    "            game_over = True\n",
    "        elif game_result == \"draw\":\n",
    "            print(\"It's a draw!\")\n",
    "            game_over = True\n",
    "        else:\n",
    "            current_player = \"O\" if current_player == \"X\" else \"X\"\n",
    "\n",
    "play_game()"
   ]
  }
 ],
 "metadata": {
  "kernelspec": {
   "display_name": "Python 3",
   "language": "python",
   "name": "python3"
  },
  "language_info": {
   "codemirror_mode": {
    "name": "ipython",
    "version": 3
   },
   "file_extension": ".py",
   "mimetype": "text/x-python",
   "name": "python",
   "nbconvert_exporter": "python",
   "pygments_lexer": "ipython3",
   "version": "3.13.2"
  }
 },
 "nbformat": 4,
 "nbformat_minor": 5
}
