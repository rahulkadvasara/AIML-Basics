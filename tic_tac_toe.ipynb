{
 "cells": [
  {
   "cell_type": "markdown",
   "metadata": {},
   "source": [
    "Tic Tac Toe"
   ]
  },
  {
   "cell_type": "code",
   "execution_count": 1,
   "metadata": {},
   "outputs": [
    {
     "name": "stdout",
     "output_type": "stream",
     "text": [
      "|   |   |   |\n",
      "|   |   |   |\n",
      "|   |   |   |\n",
      "|   |   | X |\n",
      "|   |   |   |\n",
      "|   |   |   |\n",
      "|   | O | X |\n",
      "|   |   |   |\n",
      "|   |   |   |\n",
      "|   | O | X |\n",
      "|   |   | X |\n",
      "|   |   |   |\n",
      "| O | O | X |\n",
      "|   |   | X |\n",
      "|   |   |   |\n",
      "| O | O | X |\n",
      "|   |   | X |\n",
      "|   | X |   |\n",
      "| O | O | X |\n",
      "|   |   | X |\n",
      "|   | X | O |\n",
      "Invalid move. Try again.\n",
      "| O | O | X |\n",
      "|   |   | X |\n",
      "|   | X | O |\n",
      "Invalid move. Try again.\n",
      "| O | O | X |\n",
      "|   |   | X |\n",
      "|   | X | O |\n",
      "| O | O | X |\n",
      "| X |   | X |\n",
      "|   | X | O |\n",
      "| O | O | X |\n",
      "| X | O | X |\n",
      "|   | X | O |\n",
      "Player O wins!\n"
     ]
    }
   ],
   "source": [
    "# Initialize the game board\n",
    "board = [' ' for _ in range(9)]\n",
    "\n",
    "def print_board(board):\n",
    "    for row in [board[i*3:(i+1)*3] for i in range(3)]:\n",
    "        print('| ' + ' | '.join(row) + ' |')\n",
    "\n",
    "def check_win(board, player):\n",
    "    win_conditions = [(0, 1, 2), (3, 4, 5), (6, 7, 8), \n",
    "                      (0, 3, 6), (1, 4, 7), (2, 5, 8), \n",
    "                      (0, 4, 8), (2, 4, 6)]\n",
    "    return any(board[a] == board[b] == board[c] == player for a, b, c in win_conditions)\n",
    "\n",
    "def check_draw(board):\n",
    "    return ' ' not in board\n",
    "\n",
    "def make_move(board, position, player):\n",
    "    if board[position] == ' ':\n",
    "        board[position] = player\n",
    "        return True\n",
    "    return False\n",
    "\n",
    "def tic_tac_toe():\n",
    "    current_player = 'X'\n",
    "    while True:\n",
    "        print_board(board)\n",
    "        move = int(input(f\"Player {current_player}, enter your move (1-9): \")) - 1\n",
    "        if make_move(board, move, current_player):\n",
    "            if check_win(board, current_player):\n",
    "                print_board(board)\n",
    "                print(f\"Player {current_player} wins!\")\n",
    "                break\n",
    "            elif check_draw(board):\n",
    "                print_board(board)\n",
    "                print(\"It's a draw!\")\n",
    "                break\n",
    "            current_player = 'O' if current_player == 'X' else 'X'\n",
    "        else:\n",
    "            print(\"Invalid move. Try again.\")\n",
    "\n",
    "tic_tac_toe()"
   ]
  }
 ],
 "metadata": {
  "kernelspec": {
   "display_name": "Python 3",
   "language": "python",
   "name": "python3"
  },
  "language_info": {
   "codemirror_mode": {
    "name": "ipython",
    "version": 3
   },
   "file_extension": ".py",
   "mimetype": "text/x-python",
   "name": "python",
   "nbconvert_exporter": "python",
   "pygments_lexer": "ipython3",
   "version": "3.13.1"
  }
 },
 "nbformat": 4,
 "nbformat_minor": 2
}
