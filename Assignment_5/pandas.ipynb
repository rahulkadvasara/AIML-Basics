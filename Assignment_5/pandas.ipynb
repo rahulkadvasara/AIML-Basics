{
 "cells": [
  {
   "cell_type": "markdown",
   "metadata": {},
   "source": [
    "Pandas"
   ]
  },
  {
   "cell_type": "code",
   "execution_count": 1,
   "metadata": {},
   "outputs": [],
   "source": [
    "import numpy as np\n",
    "import pandas as pd"
   ]
  },
  {
   "cell_type": "code",
   "execution_count": 5,
   "metadata": {},
   "outputs": [],
   "source": [
    "data = {\n",
    "    'name': ['John', 'Anna', 'Peter'],\n",
    "    'location': ['New York', 'Paris', 'Berlin'],\n",
    "    'age': [24, 13, 53]\n",
    "}"
   ]
  },
  {
   "cell_type": "code",
   "execution_count": 6,
   "metadata": {},
   "outputs": [
    {
     "name": "stdout",
     "output_type": "stream",
     "text": [
      "DataFrame\n",
      "    name  location  age\n",
      "0   John  New York   24\n",
      "1   Anna     Paris   13\n",
      "2  Peter    Berlin   53\n"
     ]
    }
   ],
   "source": [
    "df = pd.DataFrame(data)\n",
    "print(\"DataFrame\")\n",
    "print(df)"
   ]
  },
  {
   "cell_type": "code",
   "execution_count": 15,
   "metadata": {},
   "outputs": [
    {
     "name": "stdout",
     "output_type": "stream",
     "text": [
      "0     John\n",
      "1     Anna\n",
      "2    Peter\n",
      "Name: name, dtype: object\n",
      "0    New York\n",
      "1       Paris\n",
      "2      Berlin\n",
      "Name: location, dtype: object\n",
      "0    24\n",
      "1    13\n",
      "2    53\n",
      "Name: age, dtype: int64\n"
     ]
    }
   ],
   "source": [
    "# print(df['name'])\n",
    "# print(df['location'])\n",
    "# print(df['age'])\n",
    "\n",
    "print(df.name)\n",
    "print(df.location)\n",
    "print(df.age)"
   ]
  },
  {
   "cell_type": "code",
   "execution_count": 18,
   "metadata": {},
   "outputs": [
    {
     "name": "stdout",
     "output_type": "stream",
     "text": [
      "    name  age\n",
      "0   John   24\n",
      "1   Anna   13\n",
      "2  Peter   53\n"
     ]
    }
   ],
   "source": [
    "print(df[['name','age']])"
   ]
  },
  {
   "cell_type": "code",
   "execution_count": 19,
   "metadata": {},
   "outputs": [
    {
     "name": "stdout",
     "output_type": "stream",
     "text": [
      "    name  location  age\n",
      "0   John  New York   25\n",
      "1   Anna     Paris   14\n",
      "2  Peter    Berlin   54\n"
     ]
    }
   ],
   "source": [
    "df['age'] = df['age'] + 1\n",
    "print(df)"
   ]
  },
  {
   "cell_type": "code",
   "execution_count": 20,
   "metadata": {},
   "outputs": [
    {
     "name": "stdout",
     "output_type": "stream",
     "text": [
      "   name location  age\n",
      "1  Anna    Paris   14\n"
     ]
    }
   ],
   "source": [
    "print(df[df.name == 'Anna'])"
   ]
  },
  {
   "cell_type": "code",
   "execution_count": 21,
   "metadata": {},
   "outputs": [
    {
     "name": "stdout",
     "output_type": "stream",
     "text": [
      "    name location  age\n",
      "2  Peter   Berlin   54\n"
     ]
    }
   ],
   "source": [
    "print(df[df.age > 30])"
   ]
  },
  {
   "cell_type": "code",
   "execution_count": 30,
   "metadata": {},
   "outputs": [
    {
     "name": "stdout",
     "output_type": "stream",
     "text": [
      "name         Anna\n",
      "location    Paris\n",
      "age            14\n",
      "Name: 1, dtype: object\n",
      "name         Anna\n",
      "location    Paris\n",
      "age            14\n",
      "Name: 1, dtype: object\n"
     ]
    }
   ],
   "source": [
    "print(df.loc[1])\n",
    "print(df.iloc[1])"
   ]
  },
  {
   "cell_type": "code",
   "execution_count": 31,
   "metadata": {},
   "outputs": [
    {
     "name": "stdout",
     "output_type": "stream",
     "text": [
      "    name  location  age  Salary\n",
      "0   John  New York   25    1000\n",
      "1   Anna     Paris   14    2000\n",
      "2  Peter    Berlin   54    3000\n"
     ]
    }
   ],
   "source": [
    "df['Salary'] = [1000, 2000, 3000]\n",
    "print(df)"
   ]
  },
  {
   "cell_type": "code",
   "execution_count": 32,
   "metadata": {},
   "outputs": [
    {
     "name": "stdout",
     "output_type": "stream",
     "text": [
      "             age  Salary\n",
      "count   3.000000     3.0\n",
      "mean   31.000000  2000.0\n",
      "std    20.663978  1000.0\n",
      "min    14.000000  1000.0\n",
      "25%    19.500000  1500.0\n",
      "50%    25.000000  2000.0\n",
      "75%    39.500000  2500.0\n",
      "max    54.000000  3000.0\n"
     ]
    }
   ],
   "source": [
    "print(df.describe())"
   ]
  },
  {
   "cell_type": "code",
   "execution_count": 35,
   "metadata": {},
   "outputs": [
    {
     "name": "stdout",
     "output_type": "stream",
     "text": [
      "31.0\n",
      "20.663978319771825\n",
      "54\n",
      "14\n"
     ]
    }
   ],
   "source": [
    "print(df.age.mean())\n",
    "print(df.age.std())\n",
    "print(df.age.max())\n",
    "print(df.age.min())"
   ]
  },
  {
   "cell_type": "code",
   "execution_count": 34,
   "metadata": {},
   "outputs": [
    {
     "name": "stdout",
     "output_type": "stream",
     "text": [
      "                 0      1       2\n",
      "name          John   Anna   Peter\n",
      "location  New York  Paris  Berlin\n",
      "age             25     14      54\n",
      "Salary        1000   2000    3000\n",
      "           0     1      2\n",
      "count      4     4      4\n",
      "unique     4     4      4\n",
      "top     John  Anna  Peter\n",
      "freq       1     1      1\n"
     ]
    }
   ],
   "source": [
    "print(df.T)\n",
    "print(df.T.describe())"
   ]
  },
  {
   "cell_type": "code",
   "execution_count": 38,
   "metadata": {},
   "outputs": [
    {
     "name": "stdout",
     "output_type": "stream",
     "text": [
      "0     John\n",
      "1     Anna\n",
      "2    Peter\n",
      "Name: name, dtype: object\n",
      "Anna\n"
     ]
    }
   ],
   "source": [
    "name_series = pd.Series(df['name'])\n",
    "print(name_series)\n",
    "print(name_series[1])"
   ]
  },
  {
   "cell_type": "code",
   "execution_count": 41,
   "metadata": {},
   "outputs": [
    {
     "name": "stdout",
     "output_type": "stream",
     "text": [
      "0    25\n",
      "1    14\n",
      "2    54\n",
      "Name: age, dtype: int64\n",
      "14\n"
     ]
    }
   ],
   "source": [
    "age_series = pd.Series(df['age'])\n",
    "print(age_series)\n",
    "print(age_series[1])"
   ]
  },
  {
   "cell_type": "code",
   "execution_count": 45,
   "metadata": {},
   "outputs": [
    {
     "name": "stdout",
     "output_type": "stream",
     "text": [
      "Age array: [25  2 54]\n",
      "Age series:\n",
      " 0    25\n",
      "1    14\n",
      "2    54\n",
      "Name: age, dtype: int64\n",
      "0     True\n",
      "1    False\n",
      "2     True\n",
      "Name: age, dtype: bool\n"
     ]
    }
   ],
   "source": [
    "age_array = np.array([25, 2, 54])\n",
    "print(\"Age array:\",age_array)\n",
    "print(\"Age series:\\n\",age_series)\n",
    "comparison = age_series == age_array\n",
    "print(comparison)"
   ]
  },
  {
   "cell_type": "code",
   "execution_count": 49,
   "metadata": {},
   "outputs": [
    {
     "name": "stdout",
     "output_type": "stream",
     "text": [
      "Age Series with index:\n",
      "First     25\n",
      "Second    14\n",
      "Third     54\n",
      "dtype: int64\n"
     ]
    }
   ],
   "source": [
    "age_index = pd.Series([25, 14, 54], index=['First', 'Second', 'Third'])\n",
    "print(\"Age Series with index:\")\n",
    "print(age_index)"
   ]
  },
  {
   "cell_type": "code",
   "execution_count": 50,
   "metadata": {},
   "outputs": [
    {
     "name": "stdout",
     "output_type": "stream",
     "text": [
      "14\n"
     ]
    }
   ],
   "source": [
    "print(age_index['Second'])"
   ]
  }
 ],
 "metadata": {
  "kernelspec": {
   "display_name": "Python 3",
   "language": "python",
   "name": "python3"
  },
  "language_info": {
   "codemirror_mode": {
    "name": "ipython",
    "version": 3
   },
   "file_extension": ".py",
   "mimetype": "text/x-python",
   "name": "python",
   "nbconvert_exporter": "python",
   "pygments_lexer": "ipython3",
   "version": "3.13.2"
  }
 },
 "nbformat": 4,
 "nbformat_minor": 2
}
