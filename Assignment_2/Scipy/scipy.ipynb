{
 "cells": [
  {
   "cell_type": "markdown",
   "metadata": {},
   "source": [
    "Scipy"
   ]
  },
  {
   "cell_type": "code",
   "execution_count": 1,
   "metadata": {},
   "outputs": [],
   "source": [
    "import numpy as np\n",
    "from scipy import optimize, stats"
   ]
  },
  {
   "cell_type": "code",
   "execution_count": 3,
   "metadata": {},
   "outputs": [
    {
     "name": "stdout",
     "output_type": "stream",
     "text": [
      "\n",
      "Example 1: Optimization\n",
      "Minimization Result:   message: Optimization terminated successfully.\n",
      "  success: True\n",
      "   status: 0\n",
      "      fun: 4.440892098500626e-16\n",
      "        x: [-2.000e+00]\n",
      "      nit: 2\n",
      "      jac: [ 2.980e-08]\n",
      " hess_inv: [[ 5.000e-01]]\n",
      "     nfev: 6\n",
      "     njev: 3\n",
      "Minimum Value: 4.440892098500626e-16\n",
      "Optimal Parameters: [-1.99999998]\n"
     ]
    }
   ],
   "source": [
    "# Example 1: Optimization\n",
    "# Finding the minimum of a function\n",
    "# Define a simple function\n",
    "def simple_function(x):\n",
    "    return x**2 + 4*x + 4\n",
    "# Minimize the function\n",
    "min_result = optimize.minimize(simple_function, x0=1)\n",
    "print(\"\\nExample 1: Optimization\")\n",
    "print(\"Minimization Result:\", min_result)\n",
    "print(\"Minimum Value:\", min_result.fun)\n",
    "print(\"Optimal Parameters:\", min_result.x)"
   ]
  },
  {
   "cell_type": "code",
   "execution_count": 4,
   "metadata": {},
   "outputs": [
    {
     "name": "stdout",
     "output_type": "stream",
     "text": [
      "\n",
      "Example 2: Statistical Functions\n",
      "Generated Data: [4.61675228 4.40912372 6.61434189 3.41406939 4.31720835] ...\n",
      "Mean: 5.399146360374294\n",
      "Standard Deviation: 2.0808177852893106\n"
     ]
    }
   ],
   "source": [
    "# Example 2: Statistical Functions\n",
    "# Generating random data and calculating statistics\n",
    "# Generate random data\n",
    "data = np.random.normal(loc=5, scale=2, size=100)\n",
    "# Calculate mean and standard deviation\n",
    "mean_value = np.mean(data)\n",
    "std_dev = np.std(data)\n",
    "print(\"\\nExample 2: Statistical Functions\")\n",
    "print(\"Generated Data:\", data[:5], \"...\")\n",
    "print(\"Mean:\", mean_value)\n",
    "print(\"Standard Deviation:\", std_dev)"
   ]
  },
  {
   "cell_type": "code",
   "execution_count": 6,
   "metadata": {},
   "outputs": [
    {
     "name": "stdout",
     "output_type": "stream",
     "text": [
      "\n",
      "Example 3: Interpolation\n",
      "Original Data:\n",
      "x = [0 1 2 3 4 5]\n",
      "y = [ 0  2  4  8 16 32]\n",
      "Interpolated Values at x=2.5 and x=4.5: [ 6. 24.]\n"
     ]
    }
   ],
   "source": [
    "# Example 3: Interpolation\n",
    "# Interpolate values in a 1D array, Original data\n",
    "x = np.array([0, 1, 2, 3, 4, 5])\n",
    "y = np.array([0, 2, 4, 8, 16, 32])\n",
    "# Interpolate values at x=2.5 and y=4.5\n",
    "interpolated_values = np.interp([2.5, 4.5], x, y)\n",
    "print(\"\\nExample 3: Interpolation\")\n",
    "print(\"Original Data:\")\n",
    "print(\"x =\", x)\n",
    "print(\"y =\", y)\n",
    "print(\"Interpolated Values at x=2.5 and x=4.5:\", interpolated_values)"
   ]
  }
 ],
 "metadata": {
  "kernelspec": {
   "display_name": "Python 3",
   "language": "python",
   "name": "python3"
  },
  "language_info": {
   "codemirror_mode": {
    "name": "ipython",
    "version": 3
   },
   "file_extension": ".py",
   "mimetype": "text/x-python",
   "name": "python",
   "nbconvert_exporter": "python",
   "pygments_lexer": "ipython3",
   "version": "3.13.1"
  }
 },
 "nbformat": 4,
 "nbformat_minor": 2
}
