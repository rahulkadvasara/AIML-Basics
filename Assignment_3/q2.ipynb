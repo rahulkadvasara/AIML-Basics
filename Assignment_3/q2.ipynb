{
 "cells": [
  {
   "cell_type": "markdown",
   "metadata": {},
   "source": [
    "Write a Numpy program to find the indices of sorted elements of a given array"
   ]
  },
  {
   "cell_type": "code",
   "execution_count": 2,
   "metadata": {},
   "outputs": [],
   "source": [
    "import numpy as np"
   ]
  },
  {
   "cell_type": "code",
   "execution_count": 3,
   "metadata": {},
   "outputs": [
    {
     "name": "stdout",
     "output_type": "stream",
     "text": [
      "Sorted elements: [1 2 3 4 5]\n",
      "Indices of sorted elements: [1 2 0 3 4]\n"
     ]
    }
   ],
   "source": [
    "arr = np.array([3, 1, 2, 4, 5])\n",
    "sorted_indices = np.argsort(arr)\n",
    "print(\"Sorted elements:\", arr[sorted_indices])\n",
    "print(\"Indices of sorted elements:\", sorted_indices)"
   ]
  }
 ],
 "metadata": {
  "kernelspec": {
   "display_name": "Python 3",
   "language": "python",
   "name": "python3"
  },
  "language_info": {
   "codemirror_mode": {
    "name": "ipython",
    "version": 3
   },
   "file_extension": ".py",
   "mimetype": "text/x-python",
   "name": "python",
   "nbconvert_exporter": "python",
   "pygments_lexer": "ipython3",
   "version": "3.13.1"
  }
 },
 "nbformat": 4,
 "nbformat_minor": 2
}
