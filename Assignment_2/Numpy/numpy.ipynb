{
 "cells": [
  {
   "cell_type": "markdown",
   "metadata": {},
   "source": [
    "Numpy"
   ]
  },
  {
   "cell_type": "code",
   "execution_count": 3,
   "metadata": {},
   "outputs": [],
   "source": [
    "import numpy as np"
   ]
  },
  {
   "cell_type": "code",
   "execution_count": 24,
   "metadata": {},
   "outputs": [],
   "source": [
    "arr=np.array([1,2,3,4,5])"
   ]
  },
  {
   "cell_type": "code",
   "execution_count": 29,
   "metadata": {},
   "outputs": [
    {
     "name": "stdout",
     "output_type": "stream",
     "text": [
      "sum:\n",
      " 15\n",
      "min:\n",
      " 1\n",
      "max:\n",
      " 5\n",
      "argmax:\n",
      " 4\n",
      "argmin:\n",
      " 0\n",
      "mean:\n",
      " 3.0\n"
     ]
    }
   ],
   "source": [
    "print(\"sum:\\n\",np.sum(arr))\n",
    "print(\"min:\\n\",np.min(arr))\n",
    "print(\"max:\\n\",np.max(arr))\n",
    "print(\"argmax:\\n\",np.argmax(arr))\n",
    "print(\"argmin:\\n\",np.argmin(arr))\n",
    "print(\"mean:\\n\",np.mean(arr))"
   ]
  },
  {
   "cell_type": "code",
   "execution_count": 6,
   "metadata": {},
   "outputs": [
    {
     "name": "stdout",
     "output_type": "stream",
     "text": [
      "[[1 2 3]\n",
      " [4 5 6]\n",
      " [7 8 9]]\n",
      "[[1 4 7]\n",
      " [2 5 8]\n",
      " [3 6 9]]\n"
     ]
    }
   ],
   "source": [
    "a=np.array([[1,2,3],[4,5,6],[7,8,9]])\n",
    "print(a)\n",
    "b=np.transpose(a)\n",
    "print(b)"
   ]
  },
  {
   "cell_type": "code",
   "execution_count": 7,
   "metadata": {},
   "outputs": [
    {
     "name": "stdout",
     "output_type": "stream",
     "text": [
      "[[ 14  32  50]\n",
      " [ 32  77 122]\n",
      " [ 50 122 194]]\n"
     ]
    }
   ],
   "source": [
    "c = np.matmul(a, b)\n",
    "print(c)"
   ]
  },
  {
   "cell_type": "code",
   "execution_count": 9,
   "metadata": {},
   "outputs": [
    {
     "name": "stdout",
     "output_type": "stream",
     "text": [
      "[[  196  1024  2500]\n",
      " [ 1024  5929 14884]\n",
      " [ 2500 14884 37636]]\n"
     ]
    }
   ],
   "source": [
    "d=c**2\n",
    "print(d)"
   ]
  },
  {
   "cell_type": "code",
   "execution_count": 19,
   "metadata": {},
   "outputs": [
    {
     "name": "stdout",
     "output_type": "stream",
     "text": [
      "a:\n",
      " [[1 2 3]\n",
      " [4 5 6]\n",
      " [7 8 9]]\n",
      "b:\n",
      " [[1 4 7]\n",
      " [2 5 8]\n",
      " [3 6 9]]\n",
      "a+1:\n",
      " [[ 2  3  4]\n",
      " [ 5  6  7]\n",
      " [ 8  9 10]]\n",
      "a+b:\n",
      " [[ 2  6 10]\n",
      " [ 6 10 14]\n",
      " [10 14 18]]\n",
      "a-b:\n",
      " [[ 0 -2 -4]\n",
      " [ 2  0 -2]\n",
      " [ 4  2  0]]\n",
      "a*b:\n",
      " [[ 1  8 21]\n",
      " [ 8 25 48]\n",
      " [21 48 81]]\n",
      "a/b:\n",
      " [[1.         0.5        0.42857143]\n",
      " [2.         1.         0.75      ]\n",
      " [2.33333333 1.33333333 1.        ]]\n"
     ]
    }
   ],
   "source": [
    "print(\"a:\\n\",a)\n",
    "print(\"b:\\n\",b)\n",
    "print(\"a+1:\\n\",a+1)\n",
    "print(\"a+b:\\n\",a+b)\n",
    "print(\"a-b:\\n\",a-b)\n",
    "print(\"a*b:\\n\",a*b)\n",
    "print(\"a/b:\\n\",a/b)"
   ]
  }
 ],
 "metadata": {
  "kernelspec": {
   "display_name": "Python 3",
   "language": "python",
   "name": "python3"
  },
  "language_info": {
   "codemirror_mode": {
    "name": "ipython",
    "version": 3
   },
   "file_extension": ".py",
   "mimetype": "text/x-python",
   "name": "python",
   "nbconvert_exporter": "python",
   "pygments_lexer": "ipython3",
   "version": "3.13.1"
  }
 },
 "nbformat": 4,
 "nbformat_minor": 2
}
